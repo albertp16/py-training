{
 "cells": [
  {
   "cell_type": "markdown",
   "id": "95fbf88a-254b-4c1f-9a4c-b2f6b877cad7",
   "metadata": {},
   "source": [
    "# Install Package\n",
    "\n",
    "- tabulate https://github.com/astanin/python-tabulate\n",
    "- numpy https://numpy.org/\n",
    "\n",
    "```python\n",
    "!pip install tabulate\n",
    "```"
   ]
  },
  {
   "cell_type": "code",
   "execution_count": 2,
   "id": "8da1238d-148f-4863-9798-6667a39b89ad",
   "metadata": {},
   "outputs": [
    {
     "name": "stdout",
     "output_type": "stream",
     "text": [
      "Requirement already satisfied: tabulate in c:\\users\\albert pamonag\\anaconda3\\lib\\site-packages (0.9.0)\n"
     ]
    }
   ],
   "source": []
  },
  {
   "cell_type": "markdown",
   "id": "a7ca4042-67d0-422a-8434-2da5ffcde54d",
   "metadata": {},
   "source": [
    "## Using Numpy in Array\n",
    "```python \n",
    "import numpy as np\n",
    "from tabulate import tabulate\n",
    "\n",
    "# Beam data as a NumPy array\n",
    "beam_data = np.array([\n",
    "    [900, 414, 500, 200, 0.90],\n",
    "    [800, 414, 600, 200, 0.85],\n",
    "    [700, 276, 599, 300, 0.65]\n",
    "])\n",
    "\n",
    "# Column headers\n",
    "headers = [\"Depth (mm)\", \"Fy (MPa)\", \"Width (mm)\", \"Load (kN)\", \"Reduction Factor\"]\n",
    "\n",
    "# Use tabulate to display the table with borders\n",
    "print(tabulate(beam_data, headers=headers, tablefmt=\"grid\"))\n",
    "```"
   ]
  },
  {
   "cell_type": "code",
   "execution_count": null,
   "id": "6cb1ce9f-4abd-4c03-92c1-54330f842907",
   "metadata": {},
   "outputs": [],
   "source": []
  },
  {
   "cell_type": "markdown",
   "id": "c90a5e6c-ccee-476b-a8cf-430c520e7928",
   "metadata": {},
   "source": [
    "## Using Numpy in Dictionary \n",
    "\n",
    "```python\n",
    "import numpy as np\n",
    "from tabulate import tabulate\n",
    "\n",
    "# Beam data as a dictionary\n",
    "beam_dict = {\n",
    "    \"1\" : {\n",
    "        \"asteel\" : 900,\n",
    "        \"fy\" : 414, \n",
    "        \"eff_depth\" : 500, \n",
    "        \"a_depth\" : 200,\n",
    "        \"phi\" : 0.90\n",
    "    },\n",
    "    \"2\" : {\n",
    "        \"asteel\" : 800,\n",
    "        \"fy\" : 414, \n",
    "        \"eff_depth\" : 600, \n",
    "        \"a_depth\" : 200,\n",
    "        \"phi\" : 0.85\n",
    "    },\n",
    "    \"3\" : {\n",
    "        \"asteel\" : 700,\n",
    "        \"fy\" : 276, \n",
    "        \"eff_depth\" : 599, \n",
    "        \"a_depth\" : 300,\n",
    "        \"phi\" : 0.65\n",
    "    },\n",
    "}\n",
    "\n",
    "# Convert dictionary to a list of lists for tabulation\n",
    "beam_data = [\n",
    "    [key, values[\"asteel\"], values[\"fy\"], values[\"eff_depth\"], values[\"a_depth\"], values[\"phi\"]]\n",
    "    for key, values in beam_dict.items()\n",
    "]\n",
    "\n",
    "# Column headers\n",
    "headers = [\"Beam ID\", \"Asteel (mm^2)\", \"Fy (MPa)\", \"Effective Depth (mm)\", \"A Depth (mm)\", \"Phi\"]\n",
    "\n",
    "# Use tabulate to display the table with borders\n",
    "print(tabulate(beam_data, headers=headers, tablefmt=\"grid\"))\n",
    "```"
   ]
  },
  {
   "cell_type": "code",
   "execution_count": 2,
   "id": "e09dd2f8-b0f3-451f-9490-2340b7073006",
   "metadata": {},
   "outputs": [
    {
     "name": "stdout",
     "output_type": "stream",
     "text": [
      "+-----------+-----------------+------------+------------------------+----------------+-------+\n",
      "|   Beam ID |   Asteel (mm^2) |   Fy (MPa) |   Effective Depth (mm) |   A Depth (mm) |   Phi |\n",
      "+===========+=================+============+========================+================+=======+\n",
      "|         1 |             900 |        414 |                    500 |            200 |  0.9  |\n",
      "+-----------+-----------------+------------+------------------------+----------------+-------+\n",
      "|         2 |             800 |        414 |                    600 |            200 |  0.85 |\n",
      "+-----------+-----------------+------------+------------------------+----------------+-------+\n",
      "|         3 |             700 |        276 |                    599 |            300 |  0.65 |\n",
      "+-----------+-----------------+------------+------------------------+----------------+-------+\n"
     ]
    }
   ],
   "source": []
  },
  {
   "cell_type": "code",
   "execution_count": null,
   "id": "e117721d-1e90-4036-9f02-75350f779a71",
   "metadata": {},
   "outputs": [],
   "source": []
  }
 ],
 "metadata": {
  "kernelspec": {
   "display_name": "Python 3 (ipykernel)",
   "language": "python",
   "name": "python3"
  },
  "language_info": {
   "codemirror_mode": {
    "name": "ipython",
    "version": 3
   },
   "file_extension": ".py",
   "mimetype": "text/x-python",
   "name": "python",
   "nbconvert_exporter": "python",
   "pygments_lexer": "ipython3",
   "version": "3.11.7"
  }
 },
 "nbformat": 4,
 "nbformat_minor": 5
}
