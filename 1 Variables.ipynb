{
 "cells": [
  {
   "cell_type": "markdown",
   "id": "4b554d7e-d7f7-4072-abb9-770dde3d2749",
   "metadata": {},
   "source": [
    "# Functions"
   ]
  },
  {
   "cell_type": "markdown",
   "id": "752a0f64-8bc6-4130-859f-4f18c54b9cee",
   "metadata": {
    "deletable": false,
    "editable": false
   },
   "source": [
    "Please copy the script below \n",
    "\n",
    "```python\r",
    "print(\"Hello World\").\r\n",
    "```\r\n"
   ]
  },
  {
   "cell_type": "code",
   "execution_count": 1,
   "id": "09b797a6-d0d4-40fb-b06e-edd63a007739",
   "metadata": {},
   "outputs": [
    {
     "name": "stdout",
     "output_type": "stream",
     "text": [
      "Hello World\n"
     ]
    }
   ],
   "source": []
  },
  {
   "cell_type": "markdown",
   "id": "88113705-cfc9-4906-b73f-7dc9529fd846",
   "metadata": {},
   "source": [
    "## Python Basic\n",
    "reference : https://www.w3schools.com/python/\n",
    "### Basic Terminologies\n",
    "<strong>Variable</strong> is a named memory location that can hold a value which may change during the execution of a\n",
    "program.\n",
    "```python\n",
    "phi = 0.90 \n",
    "element = \"beam\" #[Column,footing]\n",
    "name = \"Albert\"\n",
    "\n",
    "print(\"Phi = \" + str(phi))\n",
    "print(\"Element = \" + str(element))\n",
    "print(f\"My name is {name}\")\n",
    "```"
   ]
  },
  {
   "cell_type": "code",
   "execution_count": 9,
   "id": "4c327cad-41ac-40de-b155-126bb5a4a6c4",
   "metadata": {},
   "outputs": [
    {
     "name": "stdout",
     "output_type": "stream",
     "text": [
      "Phi = 0.65\n",
      "Element = footing\n",
      "My name is Albert\n"
     ]
    }
   ],
   "source": []
  },
  {
   "cell_type": "markdown",
   "id": "b211fff5-f69a-4974-86d6-ed190e8966f8",
   "metadata": {},
   "source": [
    "<strong>Integers</strong> are whole numbers (positive, negative, or zero) without any decimal or fractional parts.<br>\n",
    "<strong>float</strong> (or floating-point number) is a number with a decimal point used to represent real values, such as 3.14 or -2.5.<br>\n",
    "<strong>Strings</strong> are sequences of characters (letters, digits, symbols) used to represent text in a program.\n",
    "```python\n",
    "test_one = 12 # Integer\n",
    "test_two = 12.4 # Float\n",
    "test_three = \"Sample\" # String\n",
    "\n",
    "# Demonstrating each variable\n",
    "print(f\"test_one (Integer): {test_one}\")\n",
    "print(f\"test_two (Float): {test_two}\")\n",
    "print(f\"test_three (String): {test_three}\")\n",
    "```"
   ]
  },
  {
   "cell_type": "code",
   "execution_count": null,
   "id": "c1d3690d-8de8-4c63-9af3-440cfe002932",
   "metadata": {},
   "outputs": [],
   "source": []
  },
  {
   "cell_type": "markdown",
   "id": "1904741d-ea28-4a6c-9f14-22cf67daa220",
   "metadata": {},
   "source": [
    "<strong>Array</strong> is a data structure that stores a fixed-size sequence of elements, usually of the same data type, in\n",
    "contiguous memory.\n",
    "```python\n",
    "rebar = [10 ,12 ,16 ,20 ,25 ,28 ,32 ,36] # index [0 ,1 ,2 ,3 ,4 ,5 ,6 ,7]\n",
    "dia_10 = rebar [0] # answer = 10\n",
    "dia_12 = rebar [1] # answer = 12\n",
    "```\n",
    "Note: in programming index always starts at 0"
   ]
  },
  {
   "cell_type": "code",
   "execution_count": null,
   "id": "88962df2-e53e-4ab9-bee0-bf9f7230687d",
   "metadata": {},
   "outputs": [],
   "source": []
  },
  {
   "cell_type": "markdown",
   "id": "f739a832-d417-433e-bd04-17e9088d0224",
   "metadata": {},
   "source": [
    "<strong>Dictionary</strong> In many programming languages (e.g., Python), a dictionary (or map) is a collection of key-\n",
    "value pairs that allow fast data retrieval based on the key.\n",
    "```python\n",
    "densities = { # From NSCP 2015 Table 204 -1\n",
    "    \"masonry\" : {\n",
    "        \"hard\" : 20.4 ,\n",
    "        \"meduim\" : 18.1 ,\n",
    "        \"normal\" : 21.2\n",
    "    },\n",
    "    \"water\" : {\n",
    "        \"fresh\" : 9.8 ,\n",
    "        \"sea\" : 10.1\n",
    "    }\n",
    "    }\n",
    "mason_hard = densities[\"masonry\"][\"hard\"] # answer = 20.4\n",
    "water_sea = densities [\"water\"][\"fresh\"] # answer = 9.8\n",
    "print(mason_hard)\n",
    "print(water_sea)\n",
    "```\n"
   ]
  },
  {
   "cell_type": "code",
   "execution_count": null,
   "id": "518a1b44-b22d-4129-8b75-b3dd2fe95afb",
   "metadata": {},
   "outputs": [],
   "source": []
  },
  {
   "cell_type": "markdown",
   "id": "ad83e882-2b6b-4f97-bc7e-52b5c0908b34",
   "metadata": {},
   "source": [
    "<strong>Loop</strong> is a control structure used to repeatedly execute a block of code until a certain condition is\n",
    "met (e.g., for, while)."
   ]
  },
  {
   "cell_type": "markdown",
   "id": "b4d8b664-9eb3-431e-bef0-b0d91e65cb9d",
   "metadata": {},
   "source": [
    "<strong>While-Loop</strong><br>\n",
    "reference : https://www.w3schools.com/python/python_while_loops.asp\n",
    "```python\n",
    "i = 0 #intialize \n",
    "while i < 6:\n",
    "    print(i)\n",
    "    i += 1\n",
    "```"
   ]
  },
  {
   "cell_type": "code",
   "execution_count": null,
   "id": "49d4b8f3-1e5f-44cc-9a99-c4fad4aebb09",
   "metadata": {},
   "outputs": [],
   "source": []
  },
  {
   "cell_type": "markdown",
   "id": "a0bfbbc1-36c5-4b4f-abfc-1a97573a258a",
   "metadata": {},
   "source": [
    "<strong>For-Loop</strong><br>\n",
    "reference : https://www.w3schools.com/python/python_for_loops.asp\n",
    "```python\n",
    "test = [0,1,2,3,4,5,6]\n",
    "\n",
    "for i in test:\n",
    "    print(i)\n",
    "```"
   ]
  },
  {
   "cell_type": "code",
   "execution_count": null,
   "id": "a6bbd0eb-72cb-4f54-81a7-e102b4d81472",
   "metadata": {},
   "outputs": [],
   "source": []
  },
  {
   "cell_type": "markdown",
   "id": "ee257977-39b3-45fc-b43d-cc83cad44a1a",
   "metadata": {},
   "source": [
    "## Operators\n",
    "\n",
    "```python\n",
    "x = 10\n",
    "y = 3\n",
    "addition = x + y\n",
    "subtraction = x - y\n",
    "multiplication = x * y\n",
    "division = x / y\n",
    "integer_division = x // y\n",
    "exponent = x ** y\n",
    "print(\"Addition\" + str(addition))\n",
    "print(\"Subtraction\" + str(subtraction))\n",
    "print(\"Multiplication\" + str(multiplication))\n",
    "print(\"Division\" + str(division))\n",
    "print(\"Integer Division\" + str(integer_division))\n",
    "print(\"Exponent\" + str(exponent))\n",
    "```"
   ]
  },
  {
   "cell_type": "code",
   "execution_count": null,
   "id": "7bea5b92-2b29-4a63-8f14-c03831fbe37e",
   "metadata": {},
   "outputs": [],
   "source": []
  },
  {
   "cell_type": "markdown",
   "id": "9eac1d33-3bce-4338-a8f5-07a7a19b0200",
   "metadata": {},
   "source": [
    "# Examples\n",
    "## Utimate RC Beam Capacity \n",
    "$$ \\phi M_{n} = \\phi \\times A_{s} \\times f_{y} \\times ( d - \\frac{a}{2} ) $$\n",
    "$$  f_{y} = \\frac{A}{B} $$\n",
    "```python\n",
    "asteel = 900 # Area of Steel\n",
    "fy = 414 # Steel Strength\n",
    "eff_depth = 500 # effective depth\n",
    "a_depth = 200 # Depth of equivalent stress block\n",
    "phi = 0.90 # Reduction factor\n",
    "\n",
    "beam_capacity = phi * asteel * fy *( eff_depth -( a_depth /2) )\n",
    "print(\"Beam Capacity = \" + str(beam_capacity/1e6) + \" kN-m\")\n",
    "```\n",
    "\n",
    "Note: \n",
    "- Use at least two letters per word in your variable names.\n",
    "- place a space or underscore between words (e.g., num students, num employees) to make the name more readable.\n",
    "- Include a short comment describing the purpose of the variable so you can easily recall its usage later."
   ]
  },
  {
   "cell_type": "code",
   "execution_count": null,
   "id": "79df1263-9c31-42bf-b234-1b8aa066d069",
   "metadata": {},
   "outputs": [],
   "source": []
  },
  {
   "cell_type": "markdown",
   "id": "54008439-20ed-4e18-bb4b-936e234e6161",
   "metadata": {},
   "source": [
    "# Functions \n",
    "reference : https://www.w3schools.com/python/python_functions.asp\n",
    "```python\n",
    "def greet ( name ) :\n",
    "    \"\"\"\n",
    "    Returns a greeting string for the given name .\n",
    "    \"\"\"\n",
    "    return f\"Hello,{name}!\"\n",
    "    # Example usage\n",
    "print(greet(\"Alice\"))\n",
    "```"
   ]
  },
  {
   "cell_type": "code",
   "execution_count": null,
   "id": "c14c5267-d81f-496e-b31b-5bf108bf6b7f",
   "metadata": {},
   "outputs": [],
   "source": []
  },
  {
   "cell_type": "markdown",
   "id": "e3876ef1-e709-4a77-b6c8-1dff15500bdd",
   "metadata": {},
   "source": [
    "## Utimate RC Beam Capacity \n",
    "$$ \\phi M_{n} = \\phi \\times A_{s} \\times f_{y} \\times ( d - \\frac{a}{2} ) $$\n",
    "\n",
    "```python\n",
    "def nominal_moment_beam_capacity(asteel,fy,eff_depth,a_depth,phi=0.90) :\n",
    "    \"\"\"\n",
    "    Calculates the nominal moment beam capacity .\n",
    "    Parameters :\n",
    "    -----------\n",
    "    asteel : float\n",
    "    Area of steel\n",
    "    fy : float\n",
    "    Steel strength\n",
    "    eff_depth : float\n",
    "    Effective depth\n",
    "    a_depth : float\n",
    "    Depth of equivalent stress block\n",
    "    phi : float , optional\n",
    "    Reduction factor ( default is 0.90)\n",
    "    Returns :\n",
    "    --------\n",
    "    float\n",
    "    Nominal moment beam capacity\n",
    "    \"\"\"\n",
    "    beam_capacity = phi * asteel * fy * ( eff_depth - ( a_depth / 2) )\n",
    "    return beam_capacity\n",
    "\n",
    "asteel = 900 # Area of Steel\n",
    "fy = 414 # Steel Strength\n",
    "eff_depth = 500 # effective depth\n",
    "a_depth = 200 # Depth of equivalent stress block\n",
    "phi = 0.90 # Reduction factor\n",
    "\n",
    "test_1 = nominal_moment_beam_capacity(asteel,fy,eff_depth,a_depth,0.85)\n",
    "test_2 = nominal_moment_beam_capacity(asteel,fy,eff_depth,a_depth)\n",
    "\n",
    "print(\"Test 1 = \" + str(test_1))\n",
    "print(\"Test 2 = \" + str(test_2))\n",
    "```"
   ]
  },
  {
   "cell_type": "code",
   "execution_count": null,
   "id": "0d8a3184-6740-4c9c-accb-d6f96b462809",
   "metadata": {},
   "outputs": [],
   "source": []
  },
  {
   "cell_type": "markdown",
   "id": "5a5080cd-486f-4f58-8c73-664c3bd709e0",
   "metadata": {},
   "source": [
    "### Using Loop in Array \n",
    "\n",
    "```python\n",
    "beam_data = [\n",
    "    [900,414,500,200,0.90], #1\n",
    "    [800,414,600,200,0.85], #2\n",
    "    [700,276,599,300,0.65] #3\n",
    "]\n",
    "\n",
    "beam_length = len(beam_data) #this get the length array data \n",
    "print(\"beam_data No. of Data ? \" +  str(beam_length))\n",
    "\n",
    "i = 0\n",
    "while i < beam_length:\n",
    "    \n",
    "    asteel_i = beam_data[i][0]\n",
    "    fy_i = beam_data[i][1]\n",
    "    eff_depth_i = beam_data[i][2]\n",
    "    a_depth_i = beam_data[i][3]\n",
    "    phi_i = beam_data[i][4]\n",
    "    \n",
    "    output = nominal_moment_beam_capacity(asteel_i,fy_i,eff_depth_i,a_depth_i,phi)\n",
    "    print(\" Index[\" + str(i) + \"] : Answer \" + str(output))\n",
    "    i += 1\n",
    "```"
   ]
  },
  {
   "cell_type": "code",
   "execution_count": null,
   "id": "cd95ce6c-b87a-4b08-af65-ed171cee58f6",
   "metadata": {},
   "outputs": [],
   "source": []
  },
  {
   "cell_type": "markdown",
   "id": "c758ed6d-7e00-460a-94c1-b8f26e22efff",
   "metadata": {},
   "source": [
    "##### Using Loop in Dictionary \n",
    "\n",
    "```python\n",
    "beam_dict = {\n",
    "    \"1\" : {\n",
    "        \"asteel\" : 900,\n",
    "        \"fy\" : 414, \n",
    "        \"eff_depth\" : 500, \n",
    "        \"a_depth\" : 200,\n",
    "        \"phi\" : 0.90\n",
    "    },\n",
    "    \"2\" : {\n",
    "        \"asteel\" : 800,\n",
    "        \"fy\" : 414, \n",
    "        \"eff_depth\" : 600, \n",
    "        \"a_depth\" : 200,\n",
    "        \"phi\" : 0.85\n",
    "    },\n",
    "    \"3\" : {\n",
    "        \"asteel\" : 700,\n",
    "        \"fy\" : 276, \n",
    "        \"eff_depth\" : 599, \n",
    "        \"a_depth\" : 300,\n",
    "        \"phi\" : 0.65\n",
    "    },\n",
    "}\n",
    "print(\"==============================================\")\n",
    "print(beam_dict)\n",
    "print(\"==============================================\")\n",
    "print(\"Area of Steel  \" + str(beam_dict[\"1\"][\"asteel\"]))\n",
    "\n",
    "beam_length = len(beam_dict)\n",
    "print(\"beam_data No. of Data ? \" +  str(beam_length))\n",
    "print(\"==============================================\")\n",
    "for i in beam_dict:\n",
    "    asteel_i = beam_dict[i][\"asteel\"]\n",
    "    fy_i = beam_dict[i][\"fy\"]\n",
    "    eff_depth_i = beam_dict[i][\"eff_depth\"]\n",
    "    a_depth_i = beam_dict[i][\"a_depth\"]\n",
    "    output = nominal_moment_beam_capacity(asteel_i,fy_i,eff_depth_i,a_depth_i,phi)\n",
    "    print(\" Index[\" + str(i) + \"] : Answer \" + str(output))\n",
    "```"
   ]
  },
  {
   "cell_type": "code",
   "execution_count": null,
   "id": "5ee6c5cc-d1b2-4263-9b05-05c6c998bdc1",
   "metadata": {},
   "outputs": [],
   "source": []
  },
  {
   "cell_type": "markdown",
   "id": "cbd1570a-adec-46c1-abc1-723e52299b6c",
   "metadata": {},
   "source": [
    "## Using if else function \n",
    "\n",
    "$$\n",
    "\\beta_1 =\n",
    "\\begin{cases}\n",
    "0.85, & \\text{if } 17 \\leq f_c \\leq 28,\\\\[6pt]\n",
    "0.85 \\;-\\; 0.05 \\;\\times\\; \\dfrac{f_c - 28}{7}, & \\text{if } 28 < f_c < 55,\\\\[6pt]\n",
    "0.65, & \\text{if } f_c \\geq 55.\n",
    "\\end{cases}\n",
    "$$"
   ]
  },
  {
   "cell_type": "markdown",
   "id": "beb6da21-9f0c-4278-881d-fd51acc7af4d",
   "metadata": {},
   "source": [
    "```python\n",
    "def calculate_beta_one(fc):\n",
    "    if 17 <= fc and fc <= 28:\n",
    "        value = 0.85\n",
    "    elif 28 < fc and fc < 55:\n",
    "        value = 0.85 - (0.05 * (fc - 28) / 7)\n",
    "    elif fc >= 55:\n",
    "        value = 0.65\n",
    "    else:\n",
    "        raise ValueError(\"fc value is out of range (should be >= 17)\")\n",
    "    return value\n",
    "\n",
    "print(f\"Test 1 = {calculate_beta_one(20)}\")\n",
    "print(f\"Test 2 = {calculate_beta_one(25)}\")\n",
    "print(f\"Test 3 = {calculate_beta_one(30)}\")\n",
    "print(f\"Test 4 = {calculate_beta_one(35)}\")\n",
    "print(f\"Test 5 = {calculate_beta_one(40)}\")\n",
    "```"
   ]
  },
  {
   "cell_type": "code",
   "execution_count": null,
   "id": "e29c7d16-44b0-4073-a64e-c055089a7937",
   "metadata": {},
   "outputs": [],
   "source": []
  },
  {
   "cell_type": "code",
   "execution_count": null,
   "id": "324504ce-01ea-4b55-b161-f518acc5ea5d",
   "metadata": {},
   "outputs": [],
   "source": []
  }
 ],
 "metadata": {
  "kernelspec": {
   "display_name": "Python 3 (ipykernel)",
   "language": "python",
   "name": "python3"
  },
  "language_info": {
   "codemirror_mode": {
    "name": "ipython",
    "version": 3
   },
   "file_extension": ".py",
   "mimetype": "text/x-python",
   "name": "python",
   "nbconvert_exporter": "python",
   "pygments_lexer": "ipython3",
   "version": "3.11.7"
  }
 },
 "nbformat": 4,
 "nbformat_minor": 5
}
